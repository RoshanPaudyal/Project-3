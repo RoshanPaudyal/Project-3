{
 "cells": [
  {
   "cell_type": "code",
   "execution_count": 52,
   "metadata": {},
   "outputs": [],
   "source": [
    "# Import the necessary libraries that will be used in this code - pandas for data manipulation, numpy for numerical calculations, and seaborn for data visualization. The collections library is also imported to use the Counter function.\n",
    "import numpy as np\n",
    "import pandas as pd\n",
    "import seaborn as sns\n",
    "from collections import Counter\n",
    "from sklearn.preprocessing import OrdinalEncoder, StandardScaler\n",
    "from sklearn.model_selection import train_test_split\n",
    "from sklearn.ensemble import RandomForestRegressor, RandomForestClassifier\n",
    "from sklearn.neighbors import KNeighborsClassifier\n",
    "from keras.models import Sequential\n",
    "from keras.layers import Dense, Dropout\n",
    "from imblearn.under_sampling import RandomUnderSampler\n",
    "from sklearn.metrics import accuracy_score, precision_score, recall_score, f1_score, classification_report, mean_squared_error, roc_auc_score"
   ]
  },
  {
   "cell_type": "code",
   "execution_count": 53,
   "metadata": {},
   "outputs": [],
   "source": [
    "# load dataset\n",
    "data = pd.read_csv(\"Resources/online_shoppers_intention.csv\")\n",
    "df = data.copy()"
   ]
  },
  {
   "cell_type": "code",
   "execution_count": 54,
   "metadata": {},
   "outputs": [
    {
     "data": {
      "text/html": [
       "<div>\n",
       "<style scoped>\n",
       "    .dataframe tbody tr th:only-of-type {\n",
       "        vertical-align: middle;\n",
       "    }\n",
       "\n",
       "    .dataframe tbody tr th {\n",
       "        vertical-align: top;\n",
       "    }\n",
       "\n",
       "    .dataframe thead th {\n",
       "        text-align: right;\n",
       "    }\n",
       "</style>\n",
       "<table border=\"1\" class=\"dataframe\">\n",
       "  <thead>\n",
       "    <tr style=\"text-align: right;\">\n",
       "      <th></th>\n",
       "      <th>Administrative</th>\n",
       "      <th>Administrative_Duration</th>\n",
       "      <th>Informational</th>\n",
       "      <th>Informational_Duration</th>\n",
       "      <th>ProductRelated</th>\n",
       "      <th>ProductRelated_Duration</th>\n",
       "      <th>BounceRates</th>\n",
       "      <th>ExitRates</th>\n",
       "      <th>PageValues</th>\n",
       "      <th>SpecialDay</th>\n",
       "      <th>Month</th>\n",
       "      <th>OperatingSystems</th>\n",
       "      <th>Browser</th>\n",
       "      <th>Region</th>\n",
       "      <th>TrafficType</th>\n",
       "      <th>VisitorType</th>\n",
       "      <th>Weekend</th>\n",
       "      <th>Revenue</th>\n",
       "    </tr>\n",
       "  </thead>\n",
       "  <tbody>\n",
       "    <tr>\n",
       "      <th>0</th>\n",
       "      <td>0</td>\n",
       "      <td>0.0</td>\n",
       "      <td>0</td>\n",
       "      <td>0.0</td>\n",
       "      <td>1</td>\n",
       "      <td>0.000000</td>\n",
       "      <td>0.20</td>\n",
       "      <td>0.20</td>\n",
       "      <td>0.0</td>\n",
       "      <td>0.0</td>\n",
       "      <td>Feb</td>\n",
       "      <td>1</td>\n",
       "      <td>1</td>\n",
       "      <td>1</td>\n",
       "      <td>1</td>\n",
       "      <td>Returning_Visitor</td>\n",
       "      <td>False</td>\n",
       "      <td>False</td>\n",
       "    </tr>\n",
       "    <tr>\n",
       "      <th>1</th>\n",
       "      <td>0</td>\n",
       "      <td>0.0</td>\n",
       "      <td>0</td>\n",
       "      <td>0.0</td>\n",
       "      <td>2</td>\n",
       "      <td>64.000000</td>\n",
       "      <td>0.00</td>\n",
       "      <td>0.10</td>\n",
       "      <td>0.0</td>\n",
       "      <td>0.0</td>\n",
       "      <td>Feb</td>\n",
       "      <td>2</td>\n",
       "      <td>2</td>\n",
       "      <td>1</td>\n",
       "      <td>2</td>\n",
       "      <td>Returning_Visitor</td>\n",
       "      <td>False</td>\n",
       "      <td>False</td>\n",
       "    </tr>\n",
       "    <tr>\n",
       "      <th>2</th>\n",
       "      <td>0</td>\n",
       "      <td>0.0</td>\n",
       "      <td>0</td>\n",
       "      <td>0.0</td>\n",
       "      <td>1</td>\n",
       "      <td>0.000000</td>\n",
       "      <td>0.20</td>\n",
       "      <td>0.20</td>\n",
       "      <td>0.0</td>\n",
       "      <td>0.0</td>\n",
       "      <td>Feb</td>\n",
       "      <td>4</td>\n",
       "      <td>1</td>\n",
       "      <td>9</td>\n",
       "      <td>3</td>\n",
       "      <td>Returning_Visitor</td>\n",
       "      <td>False</td>\n",
       "      <td>False</td>\n",
       "    </tr>\n",
       "    <tr>\n",
       "      <th>3</th>\n",
       "      <td>0</td>\n",
       "      <td>0.0</td>\n",
       "      <td>0</td>\n",
       "      <td>0.0</td>\n",
       "      <td>2</td>\n",
       "      <td>2.666667</td>\n",
       "      <td>0.05</td>\n",
       "      <td>0.14</td>\n",
       "      <td>0.0</td>\n",
       "      <td>0.0</td>\n",
       "      <td>Feb</td>\n",
       "      <td>3</td>\n",
       "      <td>2</td>\n",
       "      <td>2</td>\n",
       "      <td>4</td>\n",
       "      <td>Returning_Visitor</td>\n",
       "      <td>False</td>\n",
       "      <td>False</td>\n",
       "    </tr>\n",
       "    <tr>\n",
       "      <th>4</th>\n",
       "      <td>0</td>\n",
       "      <td>0.0</td>\n",
       "      <td>0</td>\n",
       "      <td>0.0</td>\n",
       "      <td>10</td>\n",
       "      <td>627.500000</td>\n",
       "      <td>0.02</td>\n",
       "      <td>0.05</td>\n",
       "      <td>0.0</td>\n",
       "      <td>0.0</td>\n",
       "      <td>Feb</td>\n",
       "      <td>3</td>\n",
       "      <td>3</td>\n",
       "      <td>1</td>\n",
       "      <td>4</td>\n",
       "      <td>Returning_Visitor</td>\n",
       "      <td>True</td>\n",
       "      <td>False</td>\n",
       "    </tr>\n",
       "  </tbody>\n",
       "</table>\n",
       "</div>"
      ],
      "text/plain": [
       "   Administrative  Administrative_Duration  Informational  \\\n",
       "0               0                      0.0              0   \n",
       "1               0                      0.0              0   \n",
       "2               0                      0.0              0   \n",
       "3               0                      0.0              0   \n",
       "4               0                      0.0              0   \n",
       "\n",
       "   Informational_Duration  ProductRelated  ProductRelated_Duration  \\\n",
       "0                     0.0               1                 0.000000   \n",
       "1                     0.0               2                64.000000   \n",
       "2                     0.0               1                 0.000000   \n",
       "3                     0.0               2                 2.666667   \n",
       "4                     0.0              10               627.500000   \n",
       "\n",
       "   BounceRates  ExitRates  PageValues  SpecialDay Month  OperatingSystems  \\\n",
       "0         0.20       0.20         0.0         0.0   Feb                 1   \n",
       "1         0.00       0.10         0.0         0.0   Feb                 2   \n",
       "2         0.20       0.20         0.0         0.0   Feb                 4   \n",
       "3         0.05       0.14         0.0         0.0   Feb                 3   \n",
       "4         0.02       0.05         0.0         0.0   Feb                 3   \n",
       "\n",
       "   Browser  Region  TrafficType        VisitorType  Weekend  Revenue  \n",
       "0        1       1            1  Returning_Visitor    False    False  \n",
       "1        2       1            2  Returning_Visitor    False    False  \n",
       "2        1       9            3  Returning_Visitor    False    False  \n",
       "3        2       2            4  Returning_Visitor    False    False  \n",
       "4        3       1            4  Returning_Visitor     True    False  "
      ]
     },
     "execution_count": 54,
     "metadata": {},
     "output_type": "execute_result"
    }
   ],
   "source": [
    "# display top 5 rows of the dataset\n",
    "df.head()\n"
   ]
  },
  {
   "cell_type": "markdown",
   "metadata": {},
   "source": [
    "Number of true (customer ended shopping) and false (customer ended not shopping) revenue (Bar Chart)."
   ]
  },
  {
   "cell_type": "code",
   "execution_count": 55,
   "metadata": {},
   "outputs": [
    {
     "name": "stderr",
     "output_type": "stream",
     "text": [
      "c:\\Users\\61415\\anaconda3\\lib\\site-packages\\seaborn\\_decorators.py:36: FutureWarning: Pass the following variable as a keyword arg: x. From version 0.12, the only valid positional argument will be `data`, and passing other arguments without an explicit keyword will result in an error or misinterpretation.\n",
      "  warnings.warn(\n"
     ]
    },
    {
     "data": {
      "text/plain": [
       "<Axes: xlabel='Revenue', ylabel='count'>"
      ]
     },
     "execution_count": 55,
     "metadata": {},
     "output_type": "execute_result"
    },
    {
     "data": {
      "image/png": "[encoded data removed]",
      "text/plain": [
       "<Figure size 640x480 with 1 Axes>"
      ]
     },
     "metadata": {},
     "output_type": "display_data"
    }
   ],
   "source": [
    "# Visualize distribution of revenue\n",
    "sns.countplot(df['Revenue'])"
   ]
  },
  {
   "cell_type": "code",
   "execution_count": 56,
   "metadata": {},
   "outputs": [],
   "source": [
    "# Encode non-numeric columns using OrdinalEncoder\n",
    "non_numeric_columns = 'Month', 'VisitorType', 'Weekend', 'Revenue'\n",
    "encoder = OrdinalEncoder()\n",
    "\n",
    "for col in non_numeric_columns:\n",
    "    df[col] = encoder.fit_transform(df[[col]])"
   ]
  },
  {
   "cell_type": "code",
   "execution_count": 57,
   "metadata": {},
   "outputs": [],
   "source": [
    "# split data into train and test sets\n",
    "X = df.drop('Revenue', axis=1)\n",
    "y = df['Revenue']\n",
    "X_train, X_test, y_train, y_test = train_test_split(X, y, test_size=0.2, random_state=42)"
   ]
  },
  {
   "cell_type": "code",
   "execution_count": 58,
   "metadata": {},
   "outputs": [],
   "source": [
    "# Train a random forest regressor to determine feature importances\n",
    "rf = RandomForestRegressor(n_estimators=150)\n",
    "rf.fit(X_train, y_train)\n",
    "\n",
    "# Get the top 10 features based on their importances\n",
    "importances = rf.feature_importances_\n",
    "indices = np.argsort(importances)[-10:]\n",
    "labels = X.columns[indices]\n"
   ]
  },
  {
   "cell_type": "code",
   "execution_count": 59,
   "metadata": {},
   "outputs": [
    {
     "data": {
      "image/png": "[encoded data removed]",
      "text/plain": [
       "<Figure size 640x480 with 1 Axes>"
      ]
     },
     "metadata": {},
     "output_type": "display_data"
    }
   ],
   "source": [
    "from matplotlib import pyplot as plt\n",
    "# Plot the top 10 features\n",
    "plt.barh(range(len(indices)), importances[indices], align='center')\n",
    "plt.yticks(range(len(indices)), labels)\n",
    "plt.xlabel('Feature Importance')\n",
    "plt.show()\n",
    "\n"
   ]
  },
  {
   "attachments": {},
   "cell_type": "markdown",
   "metadata": {},
   "source": [
    "### •\tDistribution of revenue over months.\n",
    "The resulting bar plot shows the distribution of revenue over the months. The x-axis represents the months, and the y-axis represents the count of instances for each month. The bars are color-coded to show the revenue column's value, with blue representing False (no revenue) and orange representing True (revenue). The plot provides an easy-to-read visualization of the distribution of revenue over the months, allowing for easy comparison between the different months."
   ]
  },
  {
   "cell_type": "code",
   "execution_count": 60,
   "metadata": {},
   "outputs": [
    {
     "data": {
      "image/png": "[encoded data removed]",
      "text/plain": [
       "<Figure size 640x480 with 1 Axes>"
      ]
     },
     "metadata": {},
     "output_type": "display_data"
    }
   ],
   "source": [
    "\n",
    "revenue_df = df.sort_values('Month')\n",
    "\n",
    "# Set the style of the plot\n",
    "sns.set_style(\"whitegrid\")\n",
    "\n",
    "# Create a barplot of the revenue distribution over months\n",
    "sns.countplot(x=\"Month\", hue=\"Revenue\", data=df)\n",
    "\n",
    "# Add labels to the plot\n",
    "plt.title(\"Distribution of Revenue over Months\")\n",
    "plt.xlabel(\"Month\")\n",
    "plt.ylabel(\"Count\")\n",
    "\n",
    "# Show the plot\n",
    "plt.show()\n"
   ]
  },
  {
   "attachments": {},
   "cell_type": "markdown",
   "metadata": {},
   "source": [
    "### Distribution of revenue over traffic type.\n",
    "In this case, we are using the mean revenue for each traffic type because the traffic types are represented as numerical values without any meaningful labels.\n",
    "For example, if we have 100 instances of traffic type 1 with a revenue value of True and 50 instances of traffic type 1 with a revenue value of False, the mean revenue for traffic type 1 would be (100 * 1 + 50 * 0) / (100 + 50) = 0.67. This mean value represents the average revenue generated by traffic type 1. We can then compare this mean revenue value to the mean revenue values for other traffic types to gain insight into which traffic types generate the most revenue on average."
   ]
  },
  {
   "cell_type": "code",
   "execution_count": 61,
   "metadata": {},
   "outputs": [
    {
     "data": {
      "image/png": "[encoded data removed]",
      "text/plain": [
       "<Figure size 640x480 with 1 Axes>"
      ]
     },
     "metadata": {},
     "output_type": "display_data"
    }
   ],
   "source": [
    "sns.barplot(x=\"TrafficType\", y=\"Revenue\", data=df)\n",
    "plt.title(\"Mean Revenue by Traffic Type\")\n",
    "plt.xlabel(\"Traffic Type\")\n",
    "plt.ylabel(\"Mean Revenue\")\n",
    "plt.show()\n"
   ]
  },
  {
   "attachments": {},
   "cell_type": "markdown",
   "metadata": {},
   "source": [
    "### Distribution of revenue over special day.\n",
    "The code below uses the seaborn library to create a swarm plot of the distribution of revenue over the \"SpecialDay\" feature.\n",
    "The plot provides useful information about the relationship between the \"SpecialDay\" feature and the revenue outcome. For example, we can see that on special days (SpecialDay values of 0.4, 0.6, and 0.8), there are no instances of revenue=1 than on non-special days (SpecialDay values of 0.0 and 1.0). This could suggest that customers are less likely to make purchases on special days, or that the website is less effective at converting visitors into customers on these days. However, it's important to keep in mind that this plot only shows correlation, and not causation."
   ]
  },
  {
   "cell_type": "code",
   "execution_count": 62,
   "metadata": {},
   "outputs": [
    {
     "data": {
      "image/png": "[encoded data removed]",
      "text/plain": [
       "<Figure size 640x480 with 1 Axes>"
      ]
     },
     "metadata": {},
     "output_type": "display_data"
    }
   ],
   "source": [
    "# Set the style of the plot\n",
    "sns.set_style(\"whitegrid\")\n",
    "\n",
    "# Create a histogram of the revenue distribution over SpecialDay\n",
    "sns.histplot(x=\"SpecialDay\", hue=\"Revenue\", data=df, multiple=\"stack\")\n",
    "\n",
    "# Add labels to the plot\n",
    "plt.title(\"Distribution of Revenue over SpecialDay\")\n",
    "plt.xlabel(\"SpecialDay\")\n",
    "plt.ylabel(\"Count\")\n",
    "\n",
    "# Show the plot\n",
    "plt.show()\n"
   ]
  },
  {
   "attachments": {},
   "cell_type": "markdown",
   "metadata": {},
   "source": [
    "### Function for summarizing the classification performance of a model\" or \"Classification Performance Summary Function\".\n",
    "\n",
    "The function takes in two arguments: the actual target labels of the test set (y_test) and the predicted labels (y_pred). It computes various performance metrics including accuracy (both normalized and absolute), precision, recall, F1 score, and AUC ROC.\n",
    "\n",
    "The function returns a dictionary with keys for each of the computed metrics and their corresponding values."
   ]
  },
  {
   "cell_type": "code",
   "execution_count": 63,
   "metadata": {},
   "outputs": [],
   "source": [
    "##Function for summarizing the classification performance of a model on a test dataset.\n",
    "\n",
    "result_dict = {}\n",
    "\n",
    "def summarize_classification(y_test,y_pred):\n",
    "    \"\"\"\n",
    "    As it's take the actual target labels of the test set and predicted label.\n",
    "    and will Give the summary of the Goodness of fit of the mode on the Validation/test dataset.\n",
    "    \"\"\"\n",
    "    acc = accuracy_score(y_test,y_pred,normalize=True)\n",
    "    num_acc = accuracy_score(y_test,y_pred,normalize=False)\n",
    "    \n",
    "    prec = precision_score(y_test,y_pred)\n",
    "    recall = recall_score(y_test,y_pred)\n",
    "    F1_score =  f1_score(y_test,y_pred)\n",
    "    auc_score = roc_auc_score(y_test,y_pred)\n",
    "    \n",
    "    \n",
    "    return{'Accuracy:': acc,\n",
    "           'Accuracy_count:': num_acc,\n",
    "           'Precision:': prec,\n",
    "           'Recall:': recall,\n",
    "           'F1_score:':F1_score,\n",
    "           'AUC_ROC:':auc_score}"
   ]
  },
  {
   "attachments": {},
   "cell_type": "markdown",
   "metadata": {},
   "source": [
    "## Building a Base Model"
   ]
  },
  {
   "cell_type": "code",
   "execution_count": 73,
   "metadata": {},
   "outputs": [],
   "source": [
    "# Helper function to Build Model\n",
    "def build_model(classifier_fn,\n",
    "                model_type,\n",
    "                name_of_y_col,\n",
    "                name_of_x_cols,\n",
    "                dataset,\n",
    "                test_frac=0.2):\n",
    "  \n",
    "    \"\"\"\n",
    "    Builds end to end model and share the model summary.\n",
    "    if show_plot_auc==True : Plot the AUC - ROC curve.\n",
    "    \"\"\"  \n",
    "    ## We have already defined X adn y in our previous section\n",
    "    # feature Scaling\n",
    "    scale_x = StandardScaler()\n",
    "    x = scale_x.fit_transform(X)\n",
    "    \n",
    "    x_train,x_test,y_train,y_test = train_test_split(X,y,test_size=0.2,random_state=0)\n",
    "    \n",
    "    if model_type == 'knn':\n",
    "        model = classifier_fn(x_train, y_train)\n",
    "    elif model_type == 'random_forest':\n",
    "        model = classifier_fn(x_train, y_train)\n",
    "    elif model_type == 'dnn':\n",
    "        model = classifier_fn(x_train, y_train, input_dim=X.shape[1])\n",
    "    else:\n",
    "        raise ValueError(\"Invalid model_type\")\n",
    "    \n",
    "    y_pred = model.predict(x_test)\n",
    "    y_pred_train = model.predict(x_train)\n",
    "\n",
    "    y_pred_train = (y_pred_train > 0.5).astype(int)\n",
    "    train_summary = summarize_classification(y_train, y_pred_train)\n",
    "    y_pred = (y_pred > 0.5).astype(int)\n",
    "    test_summary = summarize_classification(y_test, y_pred)\n",
    "    \n",
    "    pred_result = pd.DataFrame({'y_test':y_test,\n",
    "                                'y_pred':y_pred.reshape(-1,)\n",
    "                                })\n",
    "    \n",
    "    model_crosstab = pd.crosstab(pred_result.y_pred,pred_result.y_test)\n",
    "    \n",
    "    # store the result\n",
    "    return{'training':train_summary,\n",
    "          'test':test_summary,\n",
    "          'confusion_matrix':model_crosstab\n",
    "          }\n"
   ]
  },
  {
   "attachments": {},
   "cell_type": "markdown",
   "metadata": {},
   "source": [
    "## Compare Results"
   ]
  },
  {
   "cell_type": "code",
   "execution_count": 65,
   "metadata": {},
   "outputs": [],
   "source": [
    "# Helper function to compare the score of different Model.    \n",
    "def compare_result():\n",
    "    \"\"\"\n",
    "    Shows Train the Test data summary for the all the Model runned in form of data dictionary.\n",
    "    \"\"\"\n",
    "    for key in result_dict:\n",
    "        print('Classification: ',key)\n",
    "        \n",
    "        print()\n",
    "        print('Training data:-')\n",
    "        for score in result_dict[key]['training']:\n",
    "            print(score,result_dict[key]['training'][score])\n",
    "            \n",
    "        print()\n",
    "        print('Test Data:-')\n",
    "        for score in result_dict[key]['test']:\n",
    "            print(score,result_dict[key]['test'][score])\n",
    "            \n",
    "        print()"
   ]
  },
  {
   "attachments": {},
   "cell_type": "markdown",
   "metadata": {},
   "source": [
    "## Model 1: Neural Networks"
   ]
  },
  {
   "cell_type": "code",
   "execution_count": 66,
   "metadata": {},
   "outputs": [],
   "source": [
    "def dnn_fn(X_train, y_train, input_dim=17, output_dim=1):\n",
    "    model = Sequential()\n",
    "    model.add(Dense(32, input_dim=input_dim, activation='relu'))\n",
    "    model.add(Dense(16, activation='relu'))\n",
    "    model.add(Dense(output_dim, activation='linear'))\n",
    "\n",
    "    model.compile(loss='mean_squared_error', optimizer='adam', metrics=['accuracy'])\n",
    "    model.fit(X_train, y_train,\n",
    "              epochs=100, batch_size=32, verbose=0)\n",
    "\n",
    "    return model\n"
   ]
  },
  {
   "cell_type": "code",
   "execution_count": 67,
   "metadata": {},
   "outputs": [
    {
     "name": "stdout",
     "output_type": "stream",
     "text": [
      "78/78 [==============================] - 0s 810us/step\n",
      "309/309 [==============================] - 0s 735us/step\n"
     ]
    }
   ],
   "source": [
    "result_dict['Revenue ~ DNN'] = build_model(dnn_fn, 'dnn', y, X, df)\n"
   ]
  },
  {
   "attachments": {},
   "cell_type": "markdown",
   "metadata": {},
   "source": [
    "## Model 2: Unsupervised Learning - K-Nearest Neighbours (KNN)"
   ]
  },
  {
   "cell_type": "code",
   "execution_count": 68,
   "metadata": {},
   "outputs": [],
   "source": [
    "def knn_fn(X_train,y_train,n_neighbors=9,random_state=12) -> KNeighborsClassifier:\n",
    "    \"\"\"\n",
    "    Function to buld KNN Model for the given dataset\n",
    "    \"\"\"\n",
    "    \n",
    "    model = KNeighborsClassifier(n_neighbors=n_neighbors)\n",
    "    model.fit(X_train,y_train)\n",
    "    \n",
    "    return model\n"
   ]
  },
  {
   "cell_type": "code",
   "execution_count": 69,
   "metadata": {},
   "outputs": [],
   "source": [
    "result_dict['Revenue ~ KNN'] = build_model(knn_fn, 'knn', y, X, df)\n"
   ]
  },
  {
   "attachments": {},
   "cell_type": "markdown",
   "metadata": {},
   "source": [
    "## Model 3: Supervised Learning - Random Forest Classifier"
   ]
  },
  {
   "cell_type": "code",
   "execution_count": 70,
   "metadata": {},
   "outputs": [],
   "source": [
    "def random_forest_fn(x_train,y_train) -> RandomForestClassifier:\n",
    "    \"\"\"\n",
    "    Function to buld ensemble model using 50 decision trees for the given dataset\n",
    "    \"\"\"\n",
    "    # create a random forest classifier model\n",
    "    model = RandomForestClassifier(n_estimators= 50, max_depth = 15,random_state=12 )\n",
    "\n",
    "    # fit the model to the training data\n",
    "    model.fit(x_train,y_train)\n",
    "    \n",
    "    return model"
   ]
  },
  {
   "cell_type": "code",
   "execution_count": 71,
   "metadata": {},
   "outputs": [],
   "source": [
    "result_dict['Revenue ~ Random_Forest'] = build_model(random_forest_fn, 'random_forest', y, X, df)\n"
   ]
  },
  {
   "cell_type": "code",
   "execution_count": 72,
   "metadata": {},
   "outputs": [
    {
     "name": "stdout",
     "output_type": "stream",
     "text": [
      "Classification:  Revenue ~ DNN\n",
      "\n",
      "Training data:-\n",
      "Accuracy: 0.8751013787510138\n",
      "Accuracy_count: 8632\n",
      "Precision: 0.845108695652174\n",
      "Recall: 0.20928667563930015\n",
      "F1_score: 0.33549083063646173\n",
      "AUC_ROC: 0.6012415712882583\n",
      "\n",
      "Test Data:-\n",
      "Accuracy: 0.8560421735604218\n",
      "Accuracy_count: 2111\n",
      "Precision: 0.845360824742268\n",
      "Recall: 0.1943127962085308\n",
      "F1_score: 0.3159922928709056\n",
      "AUC_ROC: 0.5934871221747154\n",
      "\n",
      "Classification:  Revenue ~ KNN\n",
      "\n",
      "Training data:-\n",
      "Accuracy: 0.8839213300892133\n",
      "Accuracy_count: 8719\n",
      "Precision: 0.7846410684474123\n",
      "Recall: 0.3162853297442799\n",
      "F1_score: 0.4508393285371702\n",
      "AUC_ROC: 0.6504439300905692\n",
      "\n",
      "Test Data:-\n",
      "Accuracy: 0.85117599351176\n",
      "Accuracy_count: 2099\n",
      "Precision: 0.7165354330708661\n",
      "Recall: 0.2156398104265403\n",
      "F1_score: 0.33151183970856096\n",
      "AUC_ROC: 0.5990136429823504\n",
      "\n",
      "Classification:  Revenue ~ Random_Forest\n",
      "\n",
      "Training data:-\n",
      "Accuracy: 0.990977291159773\n",
      "Accuracy_count: 9775\n",
      "Precision: 0.9992852037169406\n",
      "Recall: 0.9407806191117093\n",
      "F1_score: 0.969150779896014\n",
      "AUC_ROC: 0.9703306294412687\n",
      "\n",
      "Test Data:-\n",
      "Accuracy: 0.8937550689375506\n",
      "Accuracy_count: 2204\n",
      "Precision: 0.7515723270440252\n",
      "Recall: 0.566350710900474\n",
      "F1_score: 0.6459459459459461\n",
      "AUC_ROC: 0.7638505022212742\n",
      "\n",
      "None\n"
     ]
    }
   ],
   "source": [
    "print(compare_result())"
   ]
  },
  {
   "cell_type": "code",
   "execution_count": null,
   "metadata": {},
   "outputs": [],
   "source": []
  }
 ],
 "metadata": {
  "kernelspec": {
   "display_name": "base",
   "language": "python",
   "name": "python3"
  },
  "language_info": {
   "codemirror_mode": {
    "name": "ipython",
    "version": 3
   },
   "file_extension": ".py",
   "mimetype": "text/x-python",
   "name": "python",
   "nbconvert_exporter": "python",
   "pygments_lexer": "ipython3",
   "version": "3.9.13"
  },
  "orig_nbformat": 4
 },
 "nbformat": 4,
 "nbformat_minor": 2
}
